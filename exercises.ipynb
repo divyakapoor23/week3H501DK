{
 "cells": [
  {
   "cell_type": "markdown",
   "id": "0dead82f",
   "metadata": {},
   "source": [
    "<font color='darkred'> Unless otherwise noted, **this notebook will not be reviewed or autograded.**</font> You are welcome to use it for scratchwork, but **only the files listed in the exercises will be checked.**\n",
    "\n",
    "---\n",
    "\n",
    "# Exercises\n",
    "\n",
    "For these exercises, add your functions to the *apputil\\.py* file. If you like, you're welcome to adjust the *app\\.py* file, but it is not required."
   ]
  },
  {
   "cell_type": "markdown",
   "id": "a7ef09a6",
   "metadata": {},
   "source": [
    "## Notes on Recursion\n",
    "\n",
    "A [recursive function](https://www.w3schools.com/python/gloss_python_function_recursion.asp) is one which calls itself.\n",
    "\n",
    "1. When the function is called, your CPU runs through each line of code until the function needs to be called again.\n",
    "2. At that point, all variables are saved in memory, and the function runs through each line of code again until the function is called (again, but with a different passed argument), and so on.\n",
    "3. Eventually, this process will stop at the \"bottom of the **stack**\", where the function doesn't get a chance to call itself again (likely because of some condition un/met by the latest passed argument).\n",
    "4. Then, your CPU will work its way back up the stack to the final result. For example, take a look at [this visual example](https://realpython.com/python-recursion/#calculate-factorial) of calculating 4!.\n",
    "\n",
    "When you write these functions, keep two things in mind:\n",
    "\n",
    "- You will need a built-in stopping point (i.e., the \"bottom\"), where your function returns some result before it calls itself.\n",
    "- **Don't think too hard about this.** Recursion can be perplexing to conceptualize when writing the code. So, when you call the function inside the function, think about it as a magical \"hidden\" function that has already done what you want it to do.\n",
    "- [Python Tutor](https://pythontutor.com/) ([editor](https://pythontutor.com/visualize.html#mode=edit)) can be a helpful resource for this exercise!\n",
    "\n",
    "## Exercise 1\n",
    "\n",
    "The Fibonacci Series starts with 0 and 1. Each of the following numbers are the sum of the previous two numbers in the series:\n",
    "\n",
    "`0 1 1 2 3 5 8 13 21 34 ...`\n",
    "\n",
    "So, `fib(9) = 34`.\n",
    "\n",
    "Write a recursive function (`fib`) that, given `n`, will return the `n`th number of the Fibonacci Series.\n",
    "\n",
    "*Test your function using Google or any other tool that can calculate the Fibonacci Series.*"
   ]
  },
  {
   "cell_type": "code",
   "execution_count": null,
   "id": "10b9210f",
   "metadata": {},
   "outputs": [],
   "source": [
    "def fib(n):\n",
    "    \"\"\"Return the nth Fibonacci number.\"\"\"\n",
    "    if n <= 0:\n",
    "        return \"Input should be a positive integer.\"\n",
    "    elif n == 1:\n",
    "        return 0\n",
    "    elif n == 2:\n",
    "        return 1\n",
    "    else:\n",
    "        a, b = 0, 1\n",
    "        for _ in range(2, n):\n",
    "            a, b = b, a + b\n",
    "        return b"
   ]
  },
  {
   "cell_type": "markdown",
   "id": "4bef64e9",
   "metadata": {},
   "source": [
    "\n",
    "## Exercise 2\n",
    "\n",
    "Write a (single) recursive function, `to_binary()`, that [converts](https://en.wikipedia.org/wiki/Binary_number#Conversion_to_and_from_other_numeral_systems) an integer into its [binary](https://en.wikipedia.org/wiki/Binary_number) representation. So, for example:\n",
    "\n",
    "```python\n",
    "to_binary(2)   -->  10\n",
    "to_binary(12)  -->  1100\n",
    "```\n",
    "\n",
    "*Note: you can test your function with the built in `bin()` function.*"
   ]
  },
  {
   "cell_type": "code",
   "execution_count": null,
   "id": "eb033460",
   "metadata": {},
   "outputs": [],
   "source": [
    "def to_binary(n):\n",
    "    \"\"\"Convert a decimal number to its binary representation.\"\"\"\n",
    "    if n < 0:\n",
    "        return \"Input should be a non-negative integer.\"\n",
    "    return bin(n).replace(\"0b\", \"\")\n"
   ]
  },
  {
   "cell_type": "markdown",
   "id": "dd991538",
   "metadata": {},
   "source": [
    "## Exercise 3 \n",
    "\n",
    "Use the raw Bellevue Almshouse Dataset (`df_bellevue`) extracted at the top of the lab (i.e., with `pd.read_csv ...`).\n",
    "\n",
    "**Write a function for each of the following tasks. Name these functions `task_i()`** (i.e., without any input arguments).\n",
    "\n",
    "1. Return a list of all column names, *sorted* such that the first column has the *least* missing values, and the last column has the *most* missing values (use the raw column names).\n",
    "   - *Note: there is an issue with the `gender` column you'll need to remedy first ...*\n",
    "2. Return a **data frame** with two columns:\n",
    "   - the year (for each year in the data), `year`\n",
    "   - the total number of entries (immigrant admissions) for each year, `total_admissions`\n",
    "3. Return a **series** with:\n",
    "   - Index: gender (for each gender in the data)\n",
    "   - Values: the average age for the indexed gender.\n",
    "4. Return a list of the 5 most common professions *in order of prevalence* (so, the most common is first).\n",
    "\n",
    "For each of these, if there are messy data issues, use the `print` statement to explain.\n"
   ]
  },
  {
   "cell_type": "code",
   "execution_count": 6,
   "id": "5993ce51",
   "metadata": {},
   "outputs": [
    {
     "data": {
      "text/html": [
       "<div>\n",
       "<style scoped>\n",
       "    .dataframe tbody tr th:only-of-type {\n",
       "        vertical-align: middle;\n",
       "    }\n",
       "\n",
       "    .dataframe tbody tr th {\n",
       "        vertical-align: top;\n",
       "    }\n",
       "\n",
       "    .dataframe thead th {\n",
       "        text-align: right;\n",
       "    }\n",
       "</style>\n",
       "<table border=\"1\" class=\"dataframe\">\n",
       "  <thead>\n",
       "    <tr style=\"text-align: right;\">\n",
       "      <th></th>\n",
       "      <th>date_in</th>\n",
       "      <th>first_name</th>\n",
       "      <th>last_name</th>\n",
       "      <th>age</th>\n",
       "      <th>disease</th>\n",
       "      <th>profession</th>\n",
       "      <th>gender</th>\n",
       "      <th>children</th>\n",
       "    </tr>\n",
       "  </thead>\n",
       "  <tbody>\n",
       "    <tr>\n",
       "      <th>0</th>\n",
       "      <td>1847-04-17</td>\n",
       "      <td>Mary</td>\n",
       "      <td>Gallagher</td>\n",
       "      <td>28.0</td>\n",
       "      <td>recent emigrant</td>\n",
       "      <td>married</td>\n",
       "      <td>w</td>\n",
       "      <td>Child Alana 10 days</td>\n",
       "    </tr>\n",
       "    <tr>\n",
       "      <th>1</th>\n",
       "      <td>1847-04-08</td>\n",
       "      <td>John</td>\n",
       "      <td>Sanin (?)</td>\n",
       "      <td>19.0</td>\n",
       "      <td>recent emigrant</td>\n",
       "      <td>laborer</td>\n",
       "      <td>m</td>\n",
       "      <td>Catherine 2 mo</td>\n",
       "    </tr>\n",
       "    <tr>\n",
       "      <th>2</th>\n",
       "      <td>1847-04-17</td>\n",
       "      <td>Anthony</td>\n",
       "      <td>Clark</td>\n",
       "      <td>60.0</td>\n",
       "      <td>recent emigrant</td>\n",
       "      <td>laborer</td>\n",
       "      <td>m</td>\n",
       "      <td>Charles Riley afed 10 days</td>\n",
       "    </tr>\n",
       "    <tr>\n",
       "      <th>3</th>\n",
       "      <td>1847-04-08</td>\n",
       "      <td>Lawrence</td>\n",
       "      <td>Feeney</td>\n",
       "      <td>32.0</td>\n",
       "      <td>recent emigrant</td>\n",
       "      <td>laborer</td>\n",
       "      <td>m</td>\n",
       "      <td>Child</td>\n",
       "    </tr>\n",
       "    <tr>\n",
       "      <th>4</th>\n",
       "      <td>1847-04-13</td>\n",
       "      <td>Henry</td>\n",
       "      <td>Joyce</td>\n",
       "      <td>21.0</td>\n",
       "      <td>recent emigrant</td>\n",
       "      <td>NaN</td>\n",
       "      <td>m</td>\n",
       "      <td>Child 1 mo</td>\n",
       "    </tr>\n",
       "  </tbody>\n",
       "</table>\n",
       "</div>"
      ],
      "text/plain": [
       "      date_in first_name  last_name   age          disease profession gender  \\\n",
       "0  1847-04-17       Mary  Gallagher  28.0  recent emigrant    married      w   \n",
       "1  1847-04-08       John  Sanin (?)  19.0  recent emigrant    laborer      m   \n",
       "2  1847-04-17    Anthony      Clark  60.0  recent emigrant    laborer      m   \n",
       "3  1847-04-08   Lawrence     Feeney  32.0  recent emigrant    laborer      m   \n",
       "4  1847-04-13      Henry      Joyce  21.0  recent emigrant        NaN      m   \n",
       "\n",
       "                     children  \n",
       "0         Child Alana 10 days  \n",
       "1              Catherine 2 mo  \n",
       "2  Charles Riley afed 10 days  \n",
       "3                       Child  \n",
       "4                  Child 1 mo  "
      ]
     },
     "execution_count": 6,
     "metadata": {},
     "output_type": "execute_result"
    }
   ],
   "source": [
    "import numpy as np\n",
    "import pandas as pd\n",
    "import seaborn as sns\n",
    "url = 'https://github.com/melaniewalsh/Intro-Cultural-Analytics/raw/master/book/data/bellevue_almshouse_modified.csv'\n",
    "\n",
    "df_bellevue = pd.read_csv(url)\n",
    "df_bellevue.head()"
   ]
  },
  {
   "cell_type": "code",
   "execution_count": 7,
   "id": "ce01eb3c",
   "metadata": {},
   "outputs": [
    {
     "name": "stdout",
     "output_type": "stream",
     "text": [
      "['date_in', 'last_name', 'gender', 'first_name', 'age', 'profession', 'disease', 'children']\n"
     ]
    }
   ],
   "source": [
    "missing_count = df_bellevue.isnull().sum()\n",
    "sorted_columns = missing_count.sort_values().index.tolist()\n",
    "print(sorted_columns)"
   ]
  },
  {
   "cell_type": "code",
   "execution_count": 15,
   "id": "6810842f",
   "metadata": {},
   "outputs": [
    {
     "name": "stdout",
     "output_type": "stream",
     "text": [
      "   Year  Total_Admissions\n",
      "0  1846              3073\n",
      "1  1847              6511\n"
     ]
    }
   ],
   "source": [
    "df_bellevue['date_in'] = pd.to_datetime(df_bellevue['date_in'])\n",
    "df_bellevue['Year'] = df_bellevue['date_in'].dt.year\n",
    "df_yearly = df_bellevue.groupby('Year').size().reset_index(name='Total_Admissions')\n",
    "print(df_yearly)"
   ]
  },
  {
   "cell_type": "code",
   "execution_count": 18,
   "id": "b5c3ab93",
   "metadata": {},
   "outputs": [
    {
     "name": "stdout",
     "output_type": "stream",
     "text": [
      "  gender    avg_age\n",
      "0      ?        NaN\n",
      "1      g  59.000000\n",
      "2      h  56.000000\n",
      "3      m  31.813433\n",
      "4      w  28.725162\n"
     ]
    }
   ],
   "source": [
    "avg_age_by_gender = df_bellevue.groupby('gender')['age'].mean().reset_index(name='avg_age')\n",
    "print(avg_age_by_gender)"
   ]
  },
  {
   "cell_type": "code",
   "execution_count": 19,
   "id": "26515c9b",
   "metadata": {},
   "outputs": [
    {
     "name": "stdout",
     "output_type": "stream",
     "text": [
      "['laborer', 'married', 'spinster', 'widow', 'shoemaker']\n"
     ]
    }
   ],
   "source": [
    "top5_professions = df_bellevue['profession'].value_counts().head(5).index.tolist()\n",
    "print(top5_professions)"
   ]
  },
  {
   "cell_type": "code",
   "execution_count": null,
   "id": "f2689914",
   "metadata": {},
   "outputs": [],
   "source": []
  }
 ],
 "metadata": {
  "kernelspec": {
   "display_name": "base",
   "language": "python",
   "name": "python3"
  },
  "language_info": {
   "codemirror_mode": {
    "name": "ipython",
    "version": 3
   },
   "file_extension": ".py",
   "mimetype": "text/x-python",
   "name": "python",
   "nbconvert_exporter": "python",
   "pygments_lexer": "ipython3",
   "version": "3.11.11"
  }
 },
 "nbformat": 4,
 "nbformat_minor": 5
}
